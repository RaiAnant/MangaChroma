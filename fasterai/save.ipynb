{
  "nbformat": 4,
  "nbformat_minor": 0,
  "metadata": {
    "colab": {
      "name": "save.ipynb",
      "version": "0.3.2",
      "provenance": [],
      "include_colab_link": true
    },
    "kernelspec": {
      "name": "python3",
      "display_name": "Python 3"
    }
  },
  "cells": [
    {
      "cell_type": "markdown",
      "metadata": {
        "id": "view-in-github",
        "colab_type": "text"
      },
      "source": [
        "<a href=\"https://colab.research.google.com/github/RaiAnant/MangaChroma/blob/master/fasterai/save.ipynb\" target=\"_parent\"><img src=\"https://colab.research.google.com/assets/colab-badge.svg\" alt=\"Open In Colab\"/></a>"
      ]
    },
    {
      "cell_type": "code",
      "metadata": {
        "id": "VWPzIfEFEJ1O",
        "colab_type": "code",
        "colab": {}
      },
      "source": [
        "from fastai.torch_core import *\n",
        "from fastai.basic_data import DataBunch\n",
        "from fastai.callback import *\n",
        "from fastai.basic_train import Learner, LearnerCallback\n",
        "from fastai.vision.gan import GANLearner"
      ],
      "execution_count": 0,
      "outputs": []
    },
    {
      "cell_type": "code",
      "metadata": {
        "id": "tMT6wR0-ELg2",
        "colab_type": "code",
        "colab": {}
      },
      "source": [
        "class GANSaveCallback(LearnerCallback):\n",
        "    \"A `LearnerCallback` that saves history of metrics while training `learn` into CSV `filename`.\"\n",
        "    def __init__(self, learn:GANLearner, learn_gen:Learner, filename:str, save_iters:int=1000): \n",
        "        super().__init__(learn)\n",
        "        self.learn_gen, self.filename, self.save_iters = learn_gen, filename, save_iters\n",
        "\n",
        "\n",
        "    def on_batch_end(self, iteration:int, epoch:int, **kwargs)->None:\n",
        "        if iteration == 0: return\n",
        "        if iteration % self.save_iters == 0: \n",
        "            self._save_gen_learner(iteration=iteration, epoch=epoch)\n",
        "\n",
        "    def _save_gen_learner(self, iteration:int, epoch:int):\n",
        "        fn = self.filename + '_' + str(epoch) + '_' + str(iteration)\n",
        "        self.learn_gen.save(fn)"
      ],
      "execution_count": 0,
      "outputs": []
    }
  ]
}