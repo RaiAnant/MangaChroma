{
  "nbformat": 4,
  "nbformat_minor": 0,
  "metadata": {
    "colab": {
      "name": "dataset.ipynb",
      "provenance": []
    },
    "kernelspec": {
      "name": "python3",
      "display_name": "Python 3"
    }
  },
  "cells": [
    {
      "cell_type": "code",
      "metadata": {
        "id": "ykmF3V8ml7Th",
        "colab_type": "code",
        "colab": {}
      },
      "source": [
        "import fastai\n",
        "from fastai import *\n",
        "from fastai.core import *\n",
        "from fastai.vision.transform import get_transforms\n",
        "from fastai.vision.data import ImageImageList, ImageDataBunch, imagenet_stats\n",
        "from .augs import noisify"
      ],
      "execution_count": 0,
      "outputs": []
    },
    {
      "cell_type": "code",
      "metadata": {
        "id": "k-kn2XLDmvEx",
        "colab_type": "code",
        "colab": {}
      },
      "source": [
        "def get_colorize_data(sz:int, bs:int, crappy_path:Path, good_path:Path, random_seed:int=None, \n",
        "        keep_pct:float=1.0, num_workers:int=8, xtra_tfms=[])->ImageDataBunch:\n",
        "\n",
        "    src = (ImageImageList.from_folder(crappy_path, convert_mode='RGB')\n",
        "        .use_partial_data(sample_pct=keep_pct, seed=random_seed)\n",
        "        .split_by_rand_pct(0.1, seed=random_seed))\n",
        "\n",
        "    data = (src.label_from_func(lambda x: good_path/x.relative_to(crappy_path))\n",
        "        .transform(get_transforms(max_zoom=1.2, max_lighting=0.5, max_warp=0.25, xtra_tfms=xtra_tfms), size=sz, tfm_y=True)\n",
        "        .databunch(bs=bs, num_workers=num_workers, no_check=True)\n",
        "        .normalize(imagenet_stats, do_y=True))\n",
        "\n",
        "    data.c = 3\n",
        "    return data"
      ],
      "execution_count": 0,
      "outputs": []
    },
    {
      "cell_type": "code",
      "metadata": {
        "id": "5ujcTDq9mzO6",
        "colab_type": "code",
        "colab": {}
      },
      "source": [
        "def get_dummy_databunch()->ImageDataBunch:\n",
        "    path = Path('./dummy/')\n",
        "    return get_colorize_data(sz=1, bs=1, crappy_path=path, good_path=path, keep_pct=0.001)"
      ],
      "execution_count": 0,
      "outputs": []
    },
    {
      "cell_type": "code",
      "metadata": {
        "id": "YFRVURsSm3Ee",
        "colab_type": "code",
        "colab": {}
      },
      "source": [
        ""
      ],
      "execution_count": 0,
      "outputs": []
    }
  ]
}