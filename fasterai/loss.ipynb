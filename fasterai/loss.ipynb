{
  "nbformat": 4,
  "nbformat_minor": 0,
  "metadata": {
    "colab": {
      "name": "loss.ipynb",
      "version": "0.3.2",
      "provenance": [],
      "include_colab_link": true
    },
    "kernelspec": {
      "name": "python3",
      "display_name": "Python 3"
    },
    "accelerator": "GPU"
  },
  "cells": [
    {
      "cell_type": "markdown",
      "metadata": {
        "id": "view-in-github",
        "colab_type": "text"
      },
      "source": [
        "<a href=\"https://colab.research.google.com/github/RaiAnant/MangaChroma/blob/master/fasterai/loss.ipynb\" target=\"_parent\"><img src=\"https://colab.research.google.com/assets/colab-badge.svg\" alt=\"Open In Colab\"/></a>"
      ]
    },
    {
      "cell_type": "code",
      "metadata": {
        "id": "vD9vMOuSObGP",
        "colab_type": "code",
        "colab": {
          "base_uri": "https://localhost:8080/",
          "height": 322
        },
        "outputId": "9cafc14c-4d0f-4a1f-a5fa-e5c40a4b2649"
      },
      "source": [
        "!nvidia-smi"
      ],
      "execution_count": 1,
      "outputs": [
        {
          "output_type": "stream",
          "text": [
            "Wed Aug 14 14:01:50 2019       \n",
            "+-----------------------------------------------------------------------------+\n",
            "| NVIDIA-SMI 418.67       Driver Version: 410.79       CUDA Version: 10.0     |\n",
            "|-------------------------------+----------------------+----------------------+\n",
            "| GPU  Name        Persistence-M| Bus-Id        Disp.A | Volatile Uncorr. ECC |\n",
            "| Fan  Temp  Perf  Pwr:Usage/Cap|         Memory-Usage | GPU-Util  Compute M. |\n",
            "|===============================+======================+======================|\n",
            "|   0  Tesla K80           Off  | 00000000:00:04.0 Off |                    0 |\n",
            "| N/A   30C    P8    30W / 149W |      0MiB / 11441MiB |      0%      Default |\n",
            "+-------------------------------+----------------------+----------------------+\n",
            "                                                                               \n",
            "+-----------------------------------------------------------------------------+\n",
            "| Processes:                                                       GPU Memory |\n",
            "|  GPU       PID   Type   Process name                             Usage      |\n",
            "|=============================================================================|\n",
            "|  No running processes found                                                 |\n",
            "+-----------------------------------------------------------------------------+\n"
          ],
          "name": "stdout"
        }
      ]
    },
    {
      "cell_type": "markdown",
      "metadata": {
        "id": "dS4YkVKJQMXB",
        "colab_type": "text"
      },
      "source": [
        "## Imports"
      ]
    },
    {
      "cell_type": "code",
      "metadata": {
        "id": "PsaNJFaNQPzZ",
        "colab_type": "code",
        "colab": {}
      },
      "source": [
        "from fastai import *\n",
        "from fastai.core import *\n",
        "from fastai.torch_core import *\n",
        "from fastai.callbacks  import hook_outputs\n",
        "import torchvision.models as models"
      ],
      "execution_count": 0,
      "outputs": []
    },
    {
      "cell_type": "markdown",
      "metadata": {
        "id": "sRTIBklQQTVu",
        "colab_type": "text"
      },
      "source": [
        "## Loss classes"
      ]
    },
    {
      "cell_type": "code",
      "metadata": {
        "id": "_FIYV8F4SvDF",
        "colab_type": "code",
        "colab": {}
      },
      "source": [
        "# m = models.vgg16_bn(True)"
      ],
      "execution_count": 0,
      "outputs": []
    },
    {
      "cell_type": "code",
      "metadata": {
        "id": "3ASWCY-FS5i0",
        "colab_type": "code",
        "colab": {}
      },
      "source": [
        "# ??models.vgg16_bn"
      ],
      "execution_count": 0,
      "outputs": []
    },
    {
      "cell_type": "code",
      "metadata": {
        "id": "lWoK-iJPT_SW",
        "colab_type": "code",
        "colab": {}
      },
      "source": [
        "# ??models.vgg"
      ],
      "execution_count": 0,
      "outputs": []
    },
    {
      "cell_type": "code",
      "metadata": {
        "id": "FU5na477UpRJ",
        "colab_type": "code",
        "colab": {}
      },
      "source": [
        "# ??models.vgg.make_layers"
      ],
      "execution_count": 0,
      "outputs": []
    },
    {
      "cell_type": "code",
      "metadata": {
        "id": "bxUGW63OQZM4",
        "colab_type": "code",
        "colab": {}
      },
      "source": [
        "class FeatureLoss(nn.Module):\n",
        "  \"\"\"Feature loss required for pretraining Generator\"\"\"\n",
        "  def __init__(self, layer_wts=[20,70,10]):\n",
        "    super.__init__()\n",
        "    # Feature extractor\n",
        "    # .features gets the layers of the model with pretrained weights \n",
        "    self.m_feat = models.vgg16_bn(True).features.cuda().eval()\n",
        "    requires_grad(self.m_feat, False)\n",
        "    blocks = [i-1 for i,o in enumerate(children)] "
      ],
      "execution_count": 0,
      "outputs": []
    }
  ]
}