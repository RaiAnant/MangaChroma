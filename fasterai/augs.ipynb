{
  "nbformat": 4,
  "nbformat_minor": 0,
  "metadata": {
    "colab": {
      "name": "augs.ipynb",
      "version": "0.3.2",
      "provenance": []
    },
    "kernelspec": {
      "name": "python3",
      "display_name": "Python 3"
    }
  },
  "cells": [
    {
      "cell_type": "code",
      "metadata": {
        "id": "xx0bxAVf-U-9",
        "colab_type": "code",
        "colab": {}
      },
      "source": [
        "from fastai.vision.image import TfmPixel\n",
        "import random"
      ],
      "execution_count": 0,
      "outputs": []
    },
    {
      "cell_type": "code",
      "metadata": {
        "id": "o0zcv5XKCywu",
        "colab_type": "code",
        "colab": {}
      },
      "source": [
        "# adds some kind of noise , but function not fully clear yet"
      ],
      "execution_count": 0,
      "outputs": []
    },
    {
      "cell_type": "code",
      "metadata": {
        "id": "QoK6HPugAG8s",
        "colab_type": "code",
        "colab": {}
      },
      "source": [
        "def _noisify(x, pct_pixels_min:float=0.001, pct_pixels_max:float=0.4, noise_range:int=30):\n",
        "    if noise_range > 255 or noise_range < 0:\n",
        "        raise Exception('noise_range must be between 0 and 255, inclusively.')\n",
        "    h,w = x.shape[1:]\n",
        "    img_size = h * w\n",
        "    mult = 10000.0\n",
        "    pct_pixels = random.randrange(int(pct_pixels_min*mult), int(pct_pixels_max*mult))/mult\n",
        "    noise_count = int(img_size * pct_pixels)\n",
        "\n",
        "    for ii in range(noise_count):\n",
        "        yy = random.randrange(h)\n",
        "        xx = random.randrange(w)\n",
        "        noise = random.randrange(-noise_range, noise_range)/255.0\n",
        "        x[:,yy,xx].add_(noise)\n",
        "    return x"
      ],
      "execution_count": 0,
      "outputs": []
    },
    {
      "cell_type": "code",
      "metadata": {
        "id": "-N4JMKAbBPWS",
        "colab_type": "code",
        "colab": {}
      },
      "source": [
        "noisify = TfmPixel(_noisify)"
      ],
      "execution_count": 0,
      "outputs": []
    }
  ]
}