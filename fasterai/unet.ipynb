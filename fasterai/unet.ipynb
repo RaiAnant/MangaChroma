{
  "nbformat": 4,
  "nbformat_minor": 0,
  "metadata": {
    "colab": {
      "name": "unet.ipynb",
      "provenance": [],
      "include_colab_link": true
    },
    "kernelspec": {
      "name": "python3",
      "display_name": "Python 3"
    }
  },
  "cells": [
    {
      "cell_type": "markdown",
      "metadata": {
        "id": "view-in-github",
        "colab_type": "text"
      },
      "source": [
        "<a href=\"https://colab.research.google.com/github/RaiAnant/MangaChroma/blob/master/fasterai/unet.ipynb\" target=\"_parent\"><img src=\"https://colab.research.google.com/assets/colab-badge.svg\" alt=\"Open In Colab\"/></a>"
      ]
    },
    {
      "cell_type": "code",
      "metadata": {
        "id": "UbmtzdByEkcr",
        "colab_type": "code",
        "outputId": "1d75080e-d776-4de6-b545-5a23ebb0f582",
        "colab": {
          "base_uri": "https://localhost:8080/",
          "height": 292
        }
      },
      "source": [
        "!git clone https://github.com/RaiAnant/MangaChroma.git\n",
        "!pip install import_ipynb\n",
        "import import_ipynb"
      ],
      "execution_count": 0,
      "outputs": [
        {
          "output_type": "stream",
          "text": [
            "Cloning into 'MangaChroma'...\n",
            "remote: Enumerating objects: 51, done.\u001b[K\n",
            "remote: Counting objects: 100% (51/51), done.\u001b[K\n",
            "remote: Compressing objects: 100% (39/39), done.\u001b[K\n",
            "remote: Total 51 (delta 18), reused 3 (delta 0), pack-reused 0\u001b[K\n",
            "Unpacking objects: 100% (51/51), done.\n",
            "Collecting import_ipynb\n",
            "  Downloading https://files.pythonhosted.org/packages/63/35/495e0021bfdcc924c7cdec4e9fbb87c88dd03b9b9b22419444dc370c8a45/import-ipynb-0.1.3.tar.gz\n",
            "Building wheels for collected packages: import-ipynb\n",
            "  Building wheel for import-ipynb (setup.py) ... \u001b[?25l\u001b[?25hdone\n",
            "  Created wheel for import-ipynb: filename=import_ipynb-0.1.3-cp36-none-any.whl size=2976 sha256=9efc56ba732c24dd4e3a13266de04c2c5e5183dafe0a1f8f8e75a33db6bb515f\n",
            "  Stored in directory: /root/.cache/pip/wheels/b4/7b/e9/a3a6e496115dffdb4e3085d0ae39ffe8a814eacc44bbf494b5\n",
            "Successfully built import-ipynb\n",
            "Installing collected packages: import-ipynb\n",
            "Successfully installed import-ipynb-0.1.3\n"
          ],
          "name": "stdout"
        }
      ]
    },
    {
      "cell_type": "code",
      "metadata": {
        "id": "GZNcdwz4X8Xm",
        "colab_type": "code",
        "outputId": "d1a22f39-98fa-4886-db8a-a81e334ddb93",
        "colab": {
          "base_uri": "https://localhost:8080/",
          "height": 34
        }
      },
      "source": [
        "from fastai.layers import *\n",
        "from MangaChroma.fasterai.layers import *\n",
        "from fastai.torch_core import *\n",
        "from fastai.callbacks.hooks import *\n",
        "from fastai.vision import *"
      ],
      "execution_count": 0,
      "outputs": [
        {
          "output_type": "stream",
          "text": [
            "importing Jupyter notebook from /content/MangaChroma/fasterai/layers.ipynb\n"
          ],
          "name": "stdout"
        }
      ]
    },
    {
      "cell_type": "code",
      "metadata": {
        "id": "nHRed8XbZHX0",
        "colab_type": "code",
        "colab": {}
      },
      "source": [
        "def _get_sfs_idxs(sizes:Sizes):\n",
        "    #\"Get the indexes of the layers where the size of the activation changes.\"\n",
        "    feature_szs = [size[-1] for size in sizes]\n",
        "    #??\n",
        "    sfs_idxs = list(np.where(np.array(feature_szs[:-1]) != np.array(feature_szs[1:]))[0])\n",
        "    if feature_szs[0] != feature_szs[1]: sfs_idxs = [0] + sfs_idxs\n",
        "    return sfs_idxs"
      ],
      "execution_count": 0,
      "outputs": []
    },
    {
      "cell_type": "code",
      "metadata": {
        "id": "x1iryS5MbB_s",
        "colab_type": "code",
        "colab": {}
      },
      "source": [
        "class CustomPixelShuffle_ICNR(nn.Module):\n",
        "    \"Upsample by `scale` from `ni` filters to `nf` (default `ni`), using `nn.PixelShuffle`, `icnr` init, and `weight_norm`.\"\n",
        "    def __init__(self, ni:int, nf:int=None, scale:int=2, blur:bool=False, leaky:float=None, **kwargs):\n",
        "        super().__init__()\n",
        "        nf = ifnone(nf, ni)\n",
        "        # this conv enshures the kernal size is sufficient for carrying out pixel shuffle of 'scale'\n",
        "        self.conv = custom_conv_layer(ni, nf*(scale**2), ks=1, use_activ=False, **kwargs)\n",
        "        icnr(self.conv[0].weight)\n",
        "\n",
        "        #pixel shuffle takes an input of size-(bs, kernel_size, h, w) and return an output of size (bs, kernel_size/scale^2, h*scale, w*scale) \n",
        "        self.shuf = nn.PixelShuffle(scale)\n",
        "        # Blurring over (h*w) kernel\n",
        "        # \"Super-Resolution using Convolutional Neural Networks without Any Checkerboard Artifacts\"\n",
        "        # - https://arxiv.org/abs/1806.02658\n",
        "        self.pad = nn.ReplicationPad2d((1,0,1,0))\n",
        "        self.blur = nn.AvgPool2d(2, stride=1)\n",
        "        self.relu = relu(True, leaky=leaky)\n",
        "\n",
        "    def forward(self,x):\n",
        "        x = self.shuf(self.relu(self.conv(x)))\n",
        "        return self.blur(self.pad(x)) if self.blur else x"
      ],
      "execution_count": 0,
      "outputs": []
    },
    {
      "cell_type": "code",
      "metadata": {
        "id": "sVP6JxCM1M7S",
        "colab_type": "code",
        "colab": {}
      },
      "source": [
        "class UnetBlockDeep(nn.Module):\n",
        "    \"A quasi-UNet block, using `PixelShuffle_ICNR upsampling`.\"\n",
        "    def __init__(self, up_in_c:int, x_in_c:int, hook:Hook, final_div:bool=True, blur:bool=False, leaky:float=None,\n",
        "                 self_attention:bool=False, nf_factor:float=1.0,  **kwargs):\n",
        "        super().__init__()\n",
        "        # this is probably a hook from the downsample path of untet\n",
        "        self.hook = hook\n",
        "        self.shuf = CustomPixelShuffle_ICNR(up_in_c, up_in_c//2, blur=blur, leaky=leaky, **kwargs)\n",
        "        self.bn = batchnorm_2d(x_in_c)\n",
        "        # the below is because this conv is applied after concatenating the output of pixel shuffle with the hook.stored\n",
        "        ni = up_in_c//2 + x_in_c\n",
        "        nf = int((ni if final_div else ni//2)*nf_factor)\n",
        "        self.conv1 = custom_conv_layer(ni, nf, leaky=leaky, **kwargs)\n",
        "        self.conv2 = custom_conv_layer(nf, nf, leaky=leaky, self_attention=self_attention, **kwargs)\n",
        "        self.relu = relu(leaky=leaky)\n",
        "\n",
        "    def forward(self, up_in:Tensor) -> Tensor:\n",
        "        s = self.hook.stored\n",
        "        up_out = self.shuf(up_in)\n",
        "        ssh = s.shape[-2:]\n",
        "        if ssh != up_out.shape[-2:]:\n",
        "            #Down/up samples the input to either the given size (here s.shape[-2:])\n",
        "            up_out = F.interpolate(up_out, s.shape[-2:], mode='nearest')\n",
        "        cat_x = self.relu(torch.cat([up_out, self.bn(s)], dim=1))\n",
        "        return self.conv2(self.conv1(cat_x))\n"
      ],
      "execution_count": 0,
      "outputs": []
    },
    {
      "cell_type": "code",
      "metadata": {
        "id": "f1MCpK3e8F5u",
        "colab_type": "code",
        "colab": {}
      },
      "source": [
        "class DynamicUnetDeep(SequentialEx):\n",
        "    \"Create a U-Net from a given architecture.\"\n",
        "    def __init__(self, encoder:nn.Module, n_classes:int, blur:bool=False, blur_final=True, self_attention:bool=False,\n",
        "                 y_range:Optional[Tuple[float,float]]=None, last_cross:bool=True, bottle:bool=False,\n",
        "                 norm_type:Optional[NormType]=NormType.Batch, nf_factor:float=1.0, **kwargs):\n",
        "        extra_bn =  norm_type == NormType.Spectral\n",
        "        imsize = (256,256)\n",
        "        sfs_szs = model_sizes(encoder, size=imsize)\n",
        "        sfs_idxs = list(reversed(_get_sfs_idxs(sfs_szs)))\n",
        "        #the code below returns hooks to the output of all those activations which change the size fo the output\n",
        "        self.sfs = hook_outputs([encoder[i] for i in sfs_idxs], detach=False)\n",
        "        x = dummy_eval(encoder, imsize).detach()\n",
        "\n",
        "        ni = sfs_szs[-1][1]\n",
        "        middle_conv = nn.Sequential(custom_conv_layer(ni, ni*2, norm_type=norm_type, extra_bn=extra_bn, **kwargs),\n",
        "                                    custom_conv_layer(ni*2, ni, norm_type=norm_type, extra_bn=extra_bn, **kwargs)).eval()\n",
        "        x = middle_conv(x)\n",
        "        layers = [encoder, batchnorm_2d(ni), nn.ReLU(), middle_conv]\n",
        "\n",
        "        #below loop builds the decoder part of the U-net block\n",
        "        for i,idx in enumerate(sfs_idxs):\n",
        "            not_final = i!=len(sfs_idxs)-1\n",
        "            up_in_c, x_in_c = int(x.shape[1]), int(sfs_szs[idx][1])\n",
        "            do_blur = blur and (not_final or blur_final)\n",
        "            sa = self_attention and (i==len(sfs_idxs)-3)\n",
        "            unet_block = UnetBlockDeep(up_in_c, x_in_c, self.sfs[i], final_div=not_final, blur=blur, self_attention=sa,\n",
        "                                   norm_type=norm_type, extra_bn=extra_bn, nf_factor=nf_factor, **kwargs).eval()\n",
        "            layers.append(unet_block)\n",
        "            x = unet_block(x)\n",
        "\n",
        "        ni = x.shape[1]\n",
        "        if imsize != sfs_szs[0][-2:]: layers.append(PixelShuffle_ICNR(ni, **kwargs))\n",
        "        #??\n",
        "        if last_cross:\n",
        "            layers.append(MergeLayer(dense=True))\n",
        "            ni += in_channels(encoder)\n",
        "            layers.append(res_block(ni, bottle=bottle, norm_type=norm_type, **kwargs))\n",
        "        layers += [custom_conv_layer(ni, n_classes, ks=1, use_activ=False, norm_type=norm_type)]\n",
        "        if y_range is not None: layers.append(SigmoidRange(*y_range))\n",
        "        super().__init__(*layers)\n",
        "\n",
        "    def __del__(self):\n",
        "        if hasattr(self, \"sfs\"): self.sfs.remove()\n"
      ],
      "execution_count": 0,
      "outputs": []
    },
    {
      "cell_type": "code",
      "metadata": {
        "id": "r_IIhWgtckhC",
        "colab_type": "code",
        "colab": {}
      },
      "source": [
        "class UnetBlockWide(nn.Module):\n",
        "    \"A quasi-UNet block, using `PixelShuffle_ICNR upsampling`.\"\n",
        "    def __init__(self, up_in_c:int, x_in_c:int, n_out:int,  hook:Hook, final_div:bool=True, blur:bool=False, leaky:float=None,\n",
        "                 self_attention:bool=False,  **kwargs):\n",
        "        super().__init__()\n",
        "        self.hook = hook\n",
        "        up_out = x_out = n_out//2\n",
        "        self.shuf = CustomPixelShuffle_ICNR(up_in_c, up_out, blur=blur, leaky=leaky, **kwargs)\n",
        "        self.bn = batchnorm_2d(x_in_c)\n",
        "        ni = up_out + x_in_c\n",
        "        self.conv = custom_conv_layer(ni, x_out, leaky=leaky, self_attention=self_attention, **kwargs)\n",
        "        self.relu = relu(leaky=leaky)\n",
        "\n",
        "    def forward(self, up_in:Tensor) -> Tensor:\n",
        "        s = self.hook.stored\n",
        "        up_out = self.shuf(up_in)\n",
        "        ssh = s.shape[-2:]\n",
        "        if ssh != up_out.shape[-2:]:\n",
        "            up_out = F.interpolate(up_out, s.shape[-2:], mode='nearest')\n",
        "        cat_x = self.relu(torch.cat([up_out, self.bn(s)], dim=1))\n",
        "        return self.conv(cat_x)"
      ],
      "execution_count": 0,
      "outputs": []
    },
    {
      "cell_type": "code",
      "metadata": {
        "id": "3jP9EK5HmeeP",
        "colab_type": "code",
        "colab": {}
      },
      "source": [
        "class DynamicUnetWide(SequentialEx):\n",
        "    \"Create a U-Net from a given architecture.\"\n",
        "    def __init__(self, encoder:nn.Module, n_classes:int, blur:bool=False, blur_final=True, self_attention:bool=False,\n",
        "                 y_range:Optional[Tuple[float,float]]=None, last_cross:bool=True, bottle:bool=False,\n",
        "                 norm_type:Optional[NormType]=NormType.Batch, nf_factor:int=1, **kwargs):\n",
        "        \n",
        "        nf = 512 * nf_factor\n",
        "        extra_bn =  norm_type == NormType.Spectral\n",
        "        imsize = (256,256)\n",
        "        sfs_szs = model_sizes(encoder, size=imsize)\n",
        "        sfs_idxs = list(reversed(_get_sfs_idxs(sfs_szs)))\n",
        "        self.sfs = hook_outputs([encoder[i] for i in sfs_idxs], detach=False)\n",
        "        x = dummy_eval(encoder, imsize).detach()\n",
        "\n",
        "        ni = sfs_szs[-1][1]\n",
        "        middle_conv = nn.Sequential(custom_conv_layer(ni, ni*2, norm_type=norm_type, extra_bn=extra_bn, **kwargs),\n",
        "                                    custom_conv_layer(ni*2, ni, norm_type=norm_type, extra_bn=extra_bn, **kwargs)).eval()\n",
        "        x = middle_conv(x)\n",
        "        layers = [encoder, batchnorm_2d(ni), nn.ReLU(), middle_conv]\n",
        "\n",
        "        for i,idx in enumerate(sfs_idxs):\n",
        "            not_final = i!=len(sfs_idxs)-1\n",
        "            up_in_c, x_in_c = int(x.shape[1]), int(sfs_szs[idx][1])\n",
        "            do_blur = blur and (not_final or blur_final)\n",
        "            sa = self_attention and (i==len(sfs_idxs)-3)\n",
        "\n",
        "            n_out = nf if not_final else nf//2\n",
        "\n",
        "            unet_block = UnetBlockWide(up_in_c, x_in_c, n_out, self.sfs[i], final_div=not_final, blur=blur, self_attention=sa,\n",
        "                                   norm_type=norm_type, extra_bn=extra_bn, **kwargs).eval()\n",
        "            layers.append(unet_block)\n",
        "            x = unet_block(x)\n",
        "\n",
        "        ni = x.shape[1]\n",
        "        if imsize != sfs_szs[0][-2:]: layers.append(PixelShuffle_ICNR(ni, **kwargs))\n",
        "        if last_cross:\n",
        "            layers.append(MergeLayer(dense=True))\n",
        "            ni += in_channels(encoder)\n",
        "            layers.append(res_block(ni, bottle=bottle, norm_type=norm_type, **kwargs))\n",
        "        layers += [custom_conv_layer(ni, n_classes, ks=1, use_activ=False, norm_type=norm_type)]\n",
        "        if y_range is not None: layers.append(SigmoidRange(*y_range))\n",
        "        super().__init__(*layers)\n",
        "\n",
        "    def __del__(self):\n",
        "        if hasattr(self, \"sfs\"): self.sfs.remove()"
      ],
      "execution_count": 0,
      "outputs": []
    }
  ]
}