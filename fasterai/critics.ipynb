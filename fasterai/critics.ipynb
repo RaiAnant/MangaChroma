{
  "nbformat": 4,
  "nbformat_minor": 0,
  "metadata": {
    "colab": {
      "name": "critics.ipynb",
      "provenance": [],
      "include_colab_link": true
    },
    "kernelspec": {
      "name": "python3",
      "display_name": "Python 3"
    },
    "accelerator": "GPU"
  },
  "cells": [
    {
      "cell_type": "markdown",
      "metadata": {
        "id": "view-in-github",
        "colab_type": "text"
      },
      "source": [
        "<a href=\"https://colab.research.google.com/github/RaiAnant/MangaChroma/blob/master/fasterai/critics.ipynb\" target=\"_parent\"><img src=\"https://colab.research.google.com/assets/colab-badge.svg\" alt=\"Open In Colab\"/></a>"
      ]
    },
    {
      "cell_type": "code",
      "metadata": {
        "id": "jM1PPlCJ14uM",
        "colab_type": "code",
        "outputId": "8ffa90e5-2da6-49f7-d0e7-c6232ca6ece3",
        "colab": {
          "base_uri": "https://localhost:8080/",
          "height": 322
        }
      },
      "source": [
        "!nvidia-smi"
      ],
      "execution_count": 0,
      "outputs": [
        {
          "output_type": "stream",
          "text": [
            "Wed Aug 14 12:12:49 2019       \n",
            "+-----------------------------------------------------------------------------+\n",
            "| NVIDIA-SMI 418.67       Driver Version: 410.79       CUDA Version: 10.0     |\n",
            "|-------------------------------+----------------------+----------------------+\n",
            "| GPU  Name        Persistence-M| Bus-Id        Disp.A | Volatile Uncorr. ECC |\n",
            "| Fan  Temp  Perf  Pwr:Usage/Cap|         Memory-Usage | GPU-Util  Compute M. |\n",
            "|===============================+======================+======================|\n",
            "|   0  Tesla T4            Off  | 00000000:00:04.0 Off |                    0 |\n",
            "| N/A   52C    P8    15W /  70W |      0MiB / 15079MiB |      0%      Default |\n",
            "+-------------------------------+----------------------+----------------------+\n",
            "                                                                               \n",
            "+-----------------------------------------------------------------------------+\n",
            "| Processes:                                                       GPU Memory |\n",
            "|  GPU       PID   Type   Process name                             Usage      |\n",
            "|=============================================================================|\n",
            "|  No running processes found                                                 |\n",
            "+-----------------------------------------------------------------------------+\n"
          ],
          "name": "stdout"
        }
      ]
    },
    {
      "cell_type": "markdown",
      "metadata": {
        "id": "OHwrZThn3WZ0",
        "colab_type": "text"
      },
      "source": [
        "## Imports"
      ]
    },
    {
      "cell_type": "code",
      "metadata": {
        "id": "xx0bxAVf-U-9",
        "colab_type": "code",
        "colab": {}
      },
      "source": [
        "from fastai.core import *\n",
        "from fastai.torch_core import *\n",
        "from fastai.vision import *\n",
        "from fastai.vision.gan import AdaptiveLoss, accuracy_thresh_expand"
      ],
      "execution_count": 0,
      "outputs": []
    },
    {
      "cell_type": "markdown",
      "metadata": {
        "id": "JFYTtFl0NsNg",
        "colab_type": "text"
      },
      "source": [
        "## Critic Model"
      ]
    },
    {
      "cell_type": "code",
      "metadata": {
        "id": "_sYVjmq63eqa",
        "colab_type": "code",
        "colab": {}
      },
      "source": [
        "# NormType is an enum where Spectral is the 4th element of the enum.\n",
        "_conv_args = dict(leaky=0.2, norm_type=NormType.Spectral)"
      ],
      "execution_count": 0,
      "outputs": []
    },
    {
      "cell_type": "code",
      "metadata": {
        "id": "S0iD4bQI3mVZ",
        "colab_type": "code",
        "colab": {}
      },
      "source": [
        "# **_conv_args will unwrap the above dict items as args in\n",
        "def _conv(ni:int, nf:int, ks:int=3,stride:int=1, **kwargs):\n",
        "  return conv_layer(ni, nf, ks, stride, **_conv_args, **kwargs)"
      ],
      "execution_count": 0,
      "outputs": []
    },
    {
      "cell_type": "code",
      "metadata": {
        "id": "Xg-bGEq83nwG",
        "colab_type": "code",
        "colab": {}
      },
      "source": [
        "def custom_gan_critic(n_channels:int=3, nf:int=256, n_blocks:int=3, p:int=0.15):\n",
        "  \"\"\"Critic for training a GAN\"\"\"\n",
        "  layers = [\n",
        "            _conv(n_channels, nf, ks=4, stride=2),\n",
        "            nn.Dropout(p/2)]\n",
        "  # Deeper layers have more dropout.\n",
        "  # Probable reason: Deeper layers learn more specialized features while shallower layers learn general features.\n",
        "  # Thus, deeper layers require more regularisation.\n",
        "  for i in range(n_blocks):\n",
        "    layers += [\n",
        "               _conv(nf, nf, ks=3, stride=1),\n",
        "               nn.Dropout2d(p),\n",
        "               _conv(nf, nf*2, ks=4, stride=2, self_attention=(i==0))]\n",
        "    nf *= 2\n",
        "  layers += [\n",
        "             _conv(nf, nf, ks=3, stride=1),\n",
        "             _conv(nf, 1, ks=4, bias=False, padding=0, use_activ=False),\n",
        "             Flatten()]\n",
        "  return nn.Sequential(*layers)"
      ],
      "execution_count": 0,
      "outputs": []
    },
    {
      "cell_type": "code",
      "metadata": {
        "id": "3JwVP2_u6UHD",
        "colab_type": "code",
        "colab": {}
      },
      "source": [
        "#AdaptiveLoss matches the target and output size\n",
        "#Accuracy_thres_expand calculates accuracy, by default binary classification\n",
        "def colorize_crit_learner(data:ImageDataBunch, loss_critic=AdaptiveLoss(nn.BCEWithLogitsLoss()), nf:int=256):\n",
        "  return Learner(data, custom_gan_critic(nf=nf), metrics=accuracy_thresh_expand, loss_func=loss_critic, wd=1e-3)"
      ],
      "execution_count": 0,
      "outputs": []
    }
  ]
}