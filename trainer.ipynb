{
  "nbformat": 4,
  "nbformat_minor": 0,
  "metadata": {
    "colab": {
      "name": "trainer.ipynb",
      "provenance": [],
      "include_colab_link": true
    },
    "kernelspec": {
      "name": "python3",
      "display_name": "Python 3"
    },
    "accelerator": "GPU"
  },
  "cells": [
    {
      "cell_type": "markdown",
      "metadata": {
        "id": "view-in-github",
        "colab_type": "text"
      },
      "source": [
        "<a href=\"https://colab.research.google.com/github/RaiAnant/MangaChroma/blob/master/trainer.ipynb\" target=\"_parent\"><img src=\"https://colab.research.google.com/assets/colab-badge.svg\" alt=\"Open In Colab\"/></a>"
      ]
    },
    {
      "cell_type": "code",
      "metadata": {
        "id": "hiwR_bPGj1FX",
        "colab_type": "code",
        "outputId": "87d2f5ae-9572-4182-c456-30776e521057",
        "colab": {
          "base_uri": "https://localhost:8080/",
          "height": 289
        }
      },
      "source": [
        "!nvidia-smi"
      ],
      "execution_count": 19,
      "outputs": [
        {
          "output_type": "stream",
          "text": [
            "Sat Oct 12 08:30:09 2019       \n",
            "+-----------------------------------------------------------------------------+\n",
            "| NVIDIA-SMI 430.40       Driver Version: 418.67       CUDA Version: 10.1     |\n",
            "|-------------------------------+----------------------+----------------------+\n",
            "| GPU  Name        Persistence-M| Bus-Id        Disp.A | Volatile Uncorr. ECC |\n",
            "| Fan  Temp  Perf  Pwr:Usage/Cap|         Memory-Usage | GPU-Util  Compute M. |\n",
            "|===============================+======================+======================|\n",
            "|   0  Tesla K80           Off  | 00000000:00:04.0 Off |                    0 |\n",
            "| N/A   73C    P0    74W / 149W |  10981MiB / 11441MiB |      0%      Default |\n",
            "+-------------------------------+----------------------+----------------------+\n",
            "                                                                               \n",
            "+-----------------------------------------------------------------------------+\n",
            "| Processes:                                                       GPU Memory |\n",
            "|  GPU       PID   Type   Process name                             Usage      |\n",
            "|=============================================================================|\n",
            "+-----------------------------------------------------------------------------+\n"
          ],
          "name": "stdout"
        }
      ]
    },
    {
      "cell_type": "code",
      "metadata": {
        "id": "pvBRLa58wOWY",
        "colab_type": "code",
        "colab": {}
      },
      "source": [
        "!rm -rf MangaChroma"
      ],
      "execution_count": 0,
      "outputs": []
    },
    {
      "cell_type": "code",
      "metadata": {
        "id": "y7ks_3s3jZpb",
        "colab_type": "code",
        "outputId": "ca88cbcf-48a7-44a5-c900-22d4d72d5763",
        "colab": {
          "base_uri": "https://localhost:8080/",
          "height": 289
        }
      },
      "source": [
        "!git clone https://github.com/RaiAnant/MangaChroma.git\n",
        "!pip install import_ipynb\n",
        "import import_ipynb"
      ],
      "execution_count": 3,
      "outputs": [
        {
          "output_type": "stream",
          "text": [
            "Cloning into 'MangaChroma'...\n",
            "remote: Enumerating objects: 131, done.\u001b[K\n",
            "remote: Counting objects:   0% (1/131)\u001b[K\rremote: Counting objects:   1% (2/131)\u001b[K\rremote: Counting objects:   2% (3/131)\u001b[K\rremote: Counting objects:   3% (4/131)\u001b[K\rremote: Counting objects:   4% (6/131)\u001b[K\rremote: Counting objects:   5% (7/131)\u001b[K\rremote: Counting objects:   6% (8/131)\u001b[K\rremote: Counting objects:   7% (10/131)\u001b[K\rremote: Counting objects:   8% (11/131)\u001b[K\rremote: Counting objects:   9% (12/131)\u001b[K\rremote: Counting objects:  10% (14/131)\u001b[K\rremote: Counting objects:  11% (15/131)\u001b[K\rremote: Counting objects:  12% (16/131)\u001b[K\rremote: Counting objects:  13% (18/131)\u001b[K\rremote: Counting objects:  14% (19/131)\u001b[K\rremote: Counting objects:  15% (20/131)\u001b[K\rremote: Counting objects:  16% (21/131)\u001b[K\rremote: Counting objects:  17% (23/131)\u001b[K\rremote: Counting objects:  18% (24/131)\u001b[K\rremote: Counting objects:  19% (25/131)\u001b[K\rremote: Counting objects:  20% (27/131)\u001b[K\rremote: Counting objects:  21% (28/131)\u001b[K\rremote: Counting objects:  22% (29/131)\u001b[K\rremote: Counting objects:  23% (31/131)\u001b[K\rremote: Counting objects:  24% (32/131)\u001b[K\rremote: Counting objects:  25% (33/131)\u001b[K\rremote: Counting objects:  26% (35/131)\u001b[K\rremote: Counting objects:  27% (36/131)\u001b[K\rremote: Counting objects:  28% (37/131)\u001b[K\rremote: Counting objects:  29% (38/131)\u001b[K\rremote: Counting objects:  30% (40/131)\u001b[K\rremote: Counting objects:  31% (41/131)\u001b[K\rremote: Counting objects:  32% (42/131)\u001b[K\rremote: Counting objects:  33% (44/131)\u001b[K\rremote: Counting objects:  34% (45/131)\u001b[K\rremote: Counting objects:  35% (46/131)\u001b[K\rremote: Counting objects:  36% (48/131)\u001b[K\rremote: Counting objects:  37% (49/131)\u001b[K\rremote: Counting objects:  38% (50/131)\u001b[K\rremote: Counting objects:  39% (52/131)\u001b[K\rremote: Counting objects:  40% (53/131)\u001b[K\rremote: Counting objects:  41% (54/131)\u001b[K\rremote: Counting objects:  42% (56/131)\u001b[K\rremote: Counting objects:  43% (57/131)\u001b[K\rremote: Counting objects:  44% (58/131)\u001b[K\rremote: Counting objects:  45% (59/131)\u001b[K\rremote: Counting objects:  46% (61/131)\u001b[K\rremote: Counting objects:  47% (62/131)\u001b[K\rremote: Counting objects:  48% (63/131)\u001b[K\rremote: Counting objects:  49% (65/131)\u001b[K\rremote: Counting objects:  50% (66/131)\u001b[K\rremote: Counting objects:  51% (67/131)\u001b[K\rremote: Counting objects:  52% (69/131)\u001b[K\rremote: Counting objects:  53% (70/131)\u001b[K\rremote: Counting objects:  54% (71/131)\u001b[K\rremote: Counting objects:  55% (73/131)\u001b[K\rremote: Counting objects:  56% (74/131)\u001b[K\rremote: Counting objects:  57% (75/131)\u001b[K\rremote: Counting objects:  58% (76/131)\u001b[K\rremote: Counting objects:  59% (78/131)\u001b[K\rremote: Counting objects:  60% (79/131)\u001b[K\rremote: Counting objects:  61% (80/131)\u001b[K\rremote: Counting objects:  62% (82/131)\u001b[K\rremote: Counting objects:  63% (83/131)\u001b[K\rremote: Counting objects:  64% (84/131)\u001b[K\rremote: Counting objects:  65% (86/131)\u001b[K\rremote: Counting objects:  66% (87/131)\u001b[K\rremote: Counting objects:  67% (88/131)\u001b[K\rremote: Counting objects:  68% (90/131)\u001b[K\rremote: Counting objects:  69% (91/131)\u001b[K\rremote: Counting objects:  70% (92/131)\u001b[K\rremote: Counting objects:  71% (94/131)\u001b[K\rremote: Counting objects:  72% (95/131)\u001b[K\rremote: Counting objects:  73% (96/131)\u001b[K\rremote: Counting objects:  74% (97/131)\u001b[K\rremote: Counting objects:  75% (99/131)\u001b[K\rremote: Counting objects:  76% (100/131)\u001b[K\rremote: Counting objects:  77% (101/131)\u001b[K\rremote: Counting objects:  78% (103/131)\u001b[K\rremote: Counting objects:  79% (104/131)\u001b[K\rremote: Counting objects:  80% (105/131)\u001b[K\rremote: Counting objects:  81% (107/131)\u001b[K\rremote: Counting objects:  82% (108/131)\u001b[K\rremote: Counting objects:  83% (109/131)\u001b[K\rremote: Counting objects:  84% (111/131)\u001b[K\rremote: Counting objects:  85% (112/131)\u001b[K\rremote: Counting objects:  86% (113/131)\u001b[K\rremote: Counting objects:  87% (114/131)\u001b[K\rremote: Counting objects:  88% (116/131)\u001b[K\rremote: Counting objects:  89% (117/131)\u001b[K\rremote: Counting objects:  90% (118/131)\u001b[K\rremote: Counting objects:  91% (120/131)\u001b[K\rremote: Counting objects:  92% (121/131)\u001b[K\rremote: Counting objects:  93% (122/131)\u001b[K\rremote: Counting objects:  94% (124/131)\u001b[K\rremote: Counting objects:  95% (125/131)\u001b[K\rremote: Counting objects:  96% (126/131)\u001b[K\rremote: Counting objects:  97% (128/131)\u001b[K\rremote: Counting objects:  98% (129/131)\u001b[K\rremote: Counting objects:  99% (130/131)\u001b[K\rremote: Counting objects: 100% (131/131)\u001b[K\rremote: Counting objects: 100% (131/131), done.\u001b[K\n",
            "remote: Compressing objects:   1% (1/99)\u001b[K\rremote: Compressing objects:   2% (2/99)\u001b[K\rremote: Compressing objects:   3% (3/99)\u001b[K\rremote: Compressing objects:   4% (4/99)\u001b[K\rremote: Compressing objects:   5% (5/99)\u001b[K\rremote: Compressing objects:   6% (6/99)\u001b[K\rremote: Compressing objects:   7% (7/99)\u001b[K\rremote: Compressing objects:   8% (8/99)\u001b[K\rremote: Compressing objects:   9% (9/99)\u001b[K\rremote: Compressing objects:  10% (10/99)\u001b[K\rremote: Compressing objects:  11% (11/99)\u001b[K\rremote: Compressing objects:  12% (12/99)\u001b[K\rremote: Compressing objects:  13% (13/99)\u001b[K\rremote: Compressing objects:  14% (14/99)\u001b[K\rremote: Compressing objects:  15% (15/99)\u001b[K\rremote: Compressing objects:  16% (16/99)\u001b[K\rremote: Compressing objects:  17% (17/99)\u001b[K\rremote: Compressing objects:  18% (18/99)\u001b[K\rremote: Compressing objects:  19% (19/99)\u001b[K\rremote: Compressing objects:  20% (20/99)\u001b[K\rremote: Compressing objects:  21% (21/99)\u001b[K\rremote: Compressing objects:  22% (22/99)\u001b[K\rremote: Compressing objects:  23% (23/99)\u001b[K\rremote: Compressing objects:  24% (24/99)\u001b[K\rremote: Compressing objects:  25% (25/99)\u001b[K\rremote: Compressing objects:  26% (26/99)\u001b[K\rremote: Compressing objects:  27% (27/99)\u001b[K\rremote: Compressing objects:  28% (28/99)\u001b[K\rremote: Compressing objects:  29% (29/99)\u001b[K\rremote: Compressing objects:  30% (30/99)\u001b[K\rremote: Compressing objects:  31% (31/99)\u001b[K\rremote: Compressing objects:  32% (32/99)\u001b[K\rremote: Compressing objects:  33% (33/99)\u001b[K\rremote: Compressing objects:  34% (34/99)\u001b[K\rremote: Compressing objects:  35% (35/99)\u001b[K\rremote: Compressing objects:  36% (36/99)\u001b[K\rremote: Compressing objects:  37% (37/99)\u001b[K\rremote: Compressing objects:  38% (38/99)\u001b[K\rremote: Compressing objects:  39% (39/99)\u001b[K\rremote: Compressing objects:  40% (40/99)\u001b[K\rremote: Compressing objects:  41% (41/99)\u001b[K\rremote: Compressing objects:  42% (42/99)\u001b[K\rremote: Compressing objects:  43% (43/99)\u001b[K\rremote: Compressing objects:  44% (44/99)\u001b[K\rremote: Compressing objects:  45% (45/99)\u001b[K\rremote: Compressing objects:  46% (46/99)\u001b[K\rremote: Compressing objects:  47% (47/99)\u001b[K\rremote: Compressing objects:  48% (48/99)\u001b[K\rremote: Compressing objects:  49% (49/99)\u001b[K\rremote: Compressing objects:  50% (50/99)\u001b[K\rremote: Compressing objects:  51% (51/99)\u001b[K\rremote: Compressing objects:  52% (52/99)\u001b[K\rremote: Compressing objects:  53% (53/99)\u001b[K\rremote: Compressing objects:  54% (54/99)\u001b[K\rremote: Compressing objects:  55% (55/99)\u001b[K\rremote: Compressing objects:  56% (56/99)\u001b[K\rremote: Compressing objects:  57% (57/99)\u001b[K\rremote: Compressing objects:  58% (58/99)\u001b[K\rremote: Compressing objects:  59% (59/99)\u001b[K\rremote: Compressing objects:  60% (60/99)\u001b[K\rremote: Compressing objects:  61% (61/99)\u001b[K\rremote: Compressing objects:  62% (62/99)\u001b[K\rremote: Compressing objects:  63% (63/99)\u001b[K\rremote: Compressing objects:  64% (64/99)\u001b[K\rremote: Compressing objects:  65% (65/99)\u001b[K\rremote: Compressing objects:  66% (66/99)\u001b[K\rremote: Compressing objects:  67% (67/99)\u001b[K\rremote: Compressing objects:  68% (68/99)\u001b[K\rremote: Compressing objects:  69% (69/99)\u001b[K\rremote: Compressing objects:  70% (70/99)\u001b[K\rremote: Compressing objects:  71% (71/99)\u001b[K\rremote: Compressing objects:  72% (72/99)\u001b[K\rremote: Compressing objects:  73% (73/99)\u001b[K\rremote: Compressing objects:  74% (74/99)\u001b[K\rremote: Compressing objects:  75% (75/99)\u001b[K\rremote: Compressing objects:  76% (76/99)\u001b[K\rremote: Compressing objects:  77% (77/99)\u001b[K\rremote: Compressing objects:  78% (78/99)\u001b[K\rremote: Compressing objects:  79% (79/99)\u001b[K\rremote: Compressing objects:  80% (80/99)\u001b[K\rremote: Compressing objects:  81% (81/99)\u001b[K\rremote: Compressing objects:  82% (82/99)\u001b[K\rremote: Compressing objects:  83% (83/99)\u001b[K\rremote: Compressing objects:  84% (84/99)\u001b[K\rremote: Compressing objects:  85% (85/99)\u001b[K\rremote: Compressing objects:  86% (86/99)\u001b[K\rremote: Compressing objects:  87% (87/99)\u001b[K\rremote: Compressing objects:  88% (88/99)\u001b[K\rremote: Compressing objects:  89% (89/99)\u001b[K\rremote: Compressing objects:  90% (90/99)\u001b[K\rremote: Compressing objects:  91% (91/99)\u001b[K\rremote: Compressing objects:  92% (92/99)\u001b[K\rremote: Compressing objects:  93% (93/99)\u001b[K\rremote: Compressing objects:  94% (94/99)\u001b[K\rremote: Compressing objects:  95% (95/99)\u001b[K\rremote: Compressing objects:  96% (96/99)\u001b[K\rremote: Compressing objects:  97% (97/99)\u001b[K\rremote: Compressing objects:  98% (98/99)\u001b[K\rremote: Compressing objects: 100% (99/99)\u001b[K\rremote: Compressing objects: 100% (99/99), done.\u001b[K\n",
            "Receiving objects:   0% (1/131)   \rReceiving objects:   1% (2/131)   \rReceiving objects:   2% (3/131)   \rReceiving objects:   3% (4/131)   \rReceiving objects:   4% (6/131)   \rReceiving objects:   5% (7/131)   \rReceiving objects:   6% (8/131)   \rReceiving objects:   7% (10/131)   \rReceiving objects:   8% (11/131)   \rReceiving objects:   9% (12/131)   \rReceiving objects:  10% (14/131)   \rReceiving objects:  11% (15/131)   \rReceiving objects:  12% (16/131)   \rReceiving objects:  13% (18/131)   \rReceiving objects:  14% (19/131)   \rReceiving objects:  15% (20/131)   \rReceiving objects:  16% (21/131)   \rReceiving objects:  17% (23/131)   \rReceiving objects:  18% (24/131)   \rReceiving objects:  19% (25/131)   \rReceiving objects:  20% (27/131)   \rReceiving objects:  21% (28/131)   \rReceiving objects:  22% (29/131)   \rReceiving objects:  23% (31/131)   \rReceiving objects:  24% (32/131)   \rReceiving objects:  25% (33/131)   \rReceiving objects:  26% (35/131)   \rReceiving objects:  27% (36/131)   \rReceiving objects:  28% (37/131)   \rReceiving objects:  29% (38/131)   \rReceiving objects:  30% (40/131)   \rReceiving objects:  31% (41/131)   \rReceiving objects:  32% (42/131)   \rReceiving objects:  33% (44/131)   \rremote: Total 131 (delta 53), reused 3 (delta 0), pack-reused 0\u001b[K\n",
            "Receiving objects:  34% (45/131)   \rReceiving objects:  35% (46/131)   \rReceiving objects:  36% (48/131)   \rReceiving objects:  37% (49/131)   \rReceiving objects:  38% (50/131)   \rReceiving objects:  39% (52/131)   \rReceiving objects:  40% (53/131)   \rReceiving objects:  41% (54/131)   \rReceiving objects:  42% (56/131)   \rReceiving objects:  43% (57/131)   \rReceiving objects:  44% (58/131)   \rReceiving objects:  45% (59/131)   \rReceiving objects:  46% (61/131)   \rReceiving objects:  47% (62/131)   \rReceiving objects:  48% (63/131)   \rReceiving objects:  49% (65/131)   \rReceiving objects:  50% (66/131)   \rReceiving objects:  51% (67/131)   \rReceiving objects:  52% (69/131)   \rReceiving objects:  53% (70/131)   \rReceiving objects:  54% (71/131)   \rReceiving objects:  55% (73/131)   \rReceiving objects:  56% (74/131)   \rReceiving objects:  57% (75/131)   \rReceiving objects:  58% (76/131)   \rReceiving objects:  59% (78/131)   \rReceiving objects:  60% (79/131)   \rReceiving objects:  61% (80/131)   \rReceiving objects:  62% (82/131)   \rReceiving objects:  63% (83/131)   \rReceiving objects:  64% (84/131)   \rReceiving objects:  65% (86/131)   \rReceiving objects:  66% (87/131)   \rReceiving objects:  67% (88/131)   \rReceiving objects:  68% (90/131)   \rReceiving objects:  69% (91/131)   \rReceiving objects:  70% (92/131)   \rReceiving objects:  71% (94/131)   \rReceiving objects:  72% (95/131)   \rReceiving objects:  73% (96/131)   \rReceiving objects:  74% (97/131)   \rReceiving objects:  75% (99/131)   \rReceiving objects:  76% (100/131)   \rReceiving objects:  77% (101/131)   \rReceiving objects:  78% (103/131)   \rReceiving objects:  79% (104/131)   \rReceiving objects:  80% (105/131)   \rReceiving objects:  81% (107/131)   \rReceiving objects:  82% (108/131)   \rReceiving objects:  83% (109/131)   \rReceiving objects:  84% (111/131)   \rReceiving objects:  85% (112/131)   \rReceiving objects:  86% (113/131)   \rReceiving objects:  87% (114/131)   \rReceiving objects:  88% (116/131)   \rReceiving objects:  89% (117/131)   \rReceiving objects:  90% (118/131)   \rReceiving objects:  91% (120/131)   \rReceiving objects:  92% (121/131)   \rReceiving objects:  93% (122/131)   \rReceiving objects:  94% (124/131)   \rReceiving objects:  95% (125/131)   \rReceiving objects:  96% (126/131)   \rReceiving objects:  97% (128/131)   \rReceiving objects:  98% (129/131)   \rReceiving objects:  99% (130/131)   \rReceiving objects: 100% (131/131)   \rReceiving objects: 100% (131/131), 32.72 KiB | 403.00 KiB/s, done.\n",
            "Resolving deltas:   0% (0/53)   \rResolving deltas:   3% (2/53)   \rResolving deltas:  60% (32/53)   \rResolving deltas:  66% (35/53)   \rResolving deltas:  73% (39/53)   \rResolving deltas:  77% (41/53)   \rResolving deltas:  79% (42/53)   \rResolving deltas:  81% (43/53)   \rResolving deltas:  83% (44/53)   \rResolving deltas: 100% (53/53)   \rResolving deltas: 100% (53/53), done.\n",
            "Collecting import_ipynb\n",
            "  Downloading https://files.pythonhosted.org/packages/63/35/495e0021bfdcc924c7cdec4e9fbb87c88dd03b9b9b22419444dc370c8a45/import-ipynb-0.1.3.tar.gz\n",
            "Building wheels for collected packages: import-ipynb\n",
            "  Building wheel for import-ipynb (setup.py) ... \u001b[?25l\u001b[?25hdone\n",
            "  Created wheel for import-ipynb: filename=import_ipynb-0.1.3-cp36-none-any.whl size=2975 sha256=1be50fbd65f7a0bcde794e76236aefdaaa75c117af606d54a1c5e899248625bf\n",
            "  Stored in directory: /root/.cache/pip/wheels/b4/7b/e9/a3a6e496115dffdb4e3085d0ae39ffe8a814eacc44bbf494b5\n",
            "Successfully built import-ipynb\n",
            "Installing collected packages: import-ipynb\n",
            "Successfully installed import-ipynb-0.1.3\n"
          ],
          "name": "stdout"
        }
      ]
    },
    {
      "cell_type": "code",
      "metadata": {
        "id": "hZ7HKlj1j-KV",
        "colab_type": "code",
        "colab": {}
      },
      "source": [
        "import os\n",
        "os.environ['CUDA_VISIBLE_DEVICES']='0'"
      ],
      "execution_count": 0,
      "outputs": []
    },
    {
      "cell_type": "code",
      "metadata": {
        "id": "7GtHoq1X092Y",
        "colab_type": "code",
        "colab": {
          "base_uri": "https://localhost:8080/",
          "height": 323
        },
        "outputId": "3f00cef3-124c-4e83-a5e1-f386bb6c4238"
      },
      "source": [
        "from fastai.callbacks.tensorboard import ImageGenTensorboardWriter"
      ],
      "execution_count": 13,
      "outputs": [
        {
          "output_type": "stream",
          "text": [
            "To use this tracker, please run 'pip install tensorboardx'. Also you must have Tensorboard running to see results\n"
          ],
          "name": "stdout"
        },
        {
          "output_type": "error",
          "ename": "NameError",
          "evalue": "ignored",
          "traceback": [
            "\u001b[0;31m---------------------------------------------------------------------------\u001b[0m",
            "\u001b[0;31mNameError\u001b[0m                                 Traceback (most recent call last)",
            "\u001b[0;32m<ipython-input-13-3bc233b8adea>\u001b[0m in \u001b[0;36m<module>\u001b[0;34m()\u001b[0m\n\u001b[0;32m----> 1\u001b[0;31m \u001b[0;32mfrom\u001b[0m \u001b[0mfastai\u001b[0m\u001b[0;34m.\u001b[0m\u001b[0mcallbacks\u001b[0m\u001b[0;34m.\u001b[0m\u001b[0mtensorboard\u001b[0m \u001b[0;32mimport\u001b[0m \u001b[0mImageGenTensorboardWriter\u001b[0m\u001b[0;34m\u001b[0m\u001b[0;34m\u001b[0m\u001b[0m\n\u001b[0m",
            "\u001b[0;32m/usr/local/lib/python3.6/dist-packages/fastai/callbacks/tensorboard.py\u001b[0m in \u001b[0;36m<module>\u001b[0;34m()\u001b[0m\n\u001b[1;32m    198\u001b[0m         \u001b[0;32mif\u001b[0m \u001b[0miteration\u001b[0m \u001b[0;34m%\u001b[0m \u001b[0mself\u001b[0m\u001b[0;34m.\u001b[0m\u001b[0mvisual_iters\u001b[0m \u001b[0;34m==\u001b[0m \u001b[0;36m0\u001b[0m\u001b[0;34m:\u001b[0m \u001b[0mself\u001b[0m\u001b[0;34m.\u001b[0m\u001b[0m_write_images\u001b[0m\u001b[0;34m(\u001b[0m\u001b[0miteration\u001b[0m\u001b[0;34m=\u001b[0m\u001b[0miteration\u001b[0m\u001b[0;34m)\u001b[0m\u001b[0;34m\u001b[0m\u001b[0;34m\u001b[0m\u001b[0m\n\u001b[1;32m    199\u001b[0m \u001b[0;34m\u001b[0m\u001b[0m\n\u001b[0;32m--> 200\u001b[0;31m \u001b[0;32mclass\u001b[0m \u001b[0mTBWriteRequest\u001b[0m\u001b[0;34m(\u001b[0m\u001b[0mABC\u001b[0m\u001b[0;34m)\u001b[0m\u001b[0;34m:\u001b[0m\u001b[0;34m\u001b[0m\u001b[0;34m\u001b[0m\u001b[0m\n\u001b[0m\u001b[1;32m    201\u001b[0m     \u001b[0;34m\"A request object for Tensorboard writes.  Useful for queuing up and executing asynchronous writes.\"\u001b[0m\u001b[0;34m\u001b[0m\u001b[0;34m\u001b[0m\u001b[0m\n\u001b[1;32m    202\u001b[0m     \u001b[0;32mdef\u001b[0m \u001b[0m__init__\u001b[0m\u001b[0;34m(\u001b[0m\u001b[0mself\u001b[0m\u001b[0;34m,\u001b[0m \u001b[0mtbwriter\u001b[0m\u001b[0;34m:\u001b[0m \u001b[0mSummaryWriter\u001b[0m\u001b[0;34m,\u001b[0m \u001b[0miteration\u001b[0m\u001b[0;34m:\u001b[0m\u001b[0mint\u001b[0m\u001b[0;34m)\u001b[0m\u001b[0;34m:\u001b[0m\u001b[0;34m\u001b[0m\u001b[0;34m\u001b[0m\u001b[0m\n",
            "\u001b[0;32m/usr/local/lib/python3.6/dist-packages/fastai/callbacks/tensorboard.py\u001b[0m in \u001b[0;36mTBWriteRequest\u001b[0;34m()\u001b[0m\n\u001b[1;32m    200\u001b[0m \u001b[0;32mclass\u001b[0m \u001b[0mTBWriteRequest\u001b[0m\u001b[0;34m(\u001b[0m\u001b[0mABC\u001b[0m\u001b[0;34m)\u001b[0m\u001b[0;34m:\u001b[0m\u001b[0;34m\u001b[0m\u001b[0;34m\u001b[0m\u001b[0m\n\u001b[1;32m    201\u001b[0m     \u001b[0;34m\"A request object for Tensorboard writes.  Useful for queuing up and executing asynchronous writes.\"\u001b[0m\u001b[0;34m\u001b[0m\u001b[0;34m\u001b[0m\u001b[0m\n\u001b[0;32m--> 202\u001b[0;31m     \u001b[0;32mdef\u001b[0m \u001b[0m__init__\u001b[0m\u001b[0;34m(\u001b[0m\u001b[0mself\u001b[0m\u001b[0;34m,\u001b[0m \u001b[0mtbwriter\u001b[0m\u001b[0;34m:\u001b[0m \u001b[0mSummaryWriter\u001b[0m\u001b[0;34m,\u001b[0m \u001b[0miteration\u001b[0m\u001b[0;34m:\u001b[0m\u001b[0mint\u001b[0m\u001b[0;34m)\u001b[0m\u001b[0;34m:\u001b[0m\u001b[0;34m\u001b[0m\u001b[0;34m\u001b[0m\u001b[0m\n\u001b[0m\u001b[1;32m    203\u001b[0m         \u001b[0msuper\u001b[0m\u001b[0;34m(\u001b[0m\u001b[0;34m)\u001b[0m\u001b[0;34m.\u001b[0m\u001b[0m__init__\u001b[0m\u001b[0;34m(\u001b[0m\u001b[0;34m)\u001b[0m\u001b[0;34m\u001b[0m\u001b[0;34m\u001b[0m\u001b[0m\n\u001b[1;32m    204\u001b[0m         \u001b[0mself\u001b[0m\u001b[0;34m.\u001b[0m\u001b[0mtbwriter\u001b[0m \u001b[0;34m=\u001b[0m \u001b[0mtbwriter\u001b[0m\u001b[0;34m\u001b[0m\u001b[0;34m\u001b[0m\u001b[0m\n",
            "\u001b[0;31mNameError\u001b[0m: name 'SummaryWriter' is not defined"
          ]
        }
      ]
    },
    {
      "cell_type": "code",
      "metadata": {
        "id": "j2z6eDA3kT98",
        "colab_type": "code",
        "outputId": "944f55a9-c6c4-47ec-ac94-74ef99f4f008",
        "colab": {
          "base_uri": "https://localhost:8080/",
          "height": 68
        }
      },
      "source": [
        "import fastai\n",
        "from fastai import *\n",
        "from fastai.vision import *\n",
        "from tensorboardcolab import TensorBoardColab, TensorBoardColabCallback\n",
        "from fastai.vision.gan import *\n",
        "from MangaChroma.fasterai.generators import *\n",
        "from MangaChroma.fasterai.critics import *\n",
        "from MangaChroma.fasterai.dataset import *\n",
        "from MangaChroma.fasterai.loss import *\n",
        "from MangaChroma.fasterai.save import *\n",
        "from PIL import Image, ImageDraw, ImageFont\n",
        "from PIL import ImageFile\n",
        "ImageFile.LOAD_TRUNCATED_IMAGES = True\n",
        "tbc=TensorBoardColab()"
      ],
      "execution_count": 21,
      "outputs": [
        {
          "output_type": "stream",
          "text": [
            "Wait for 8 seconds...\n",
            "TensorBoard link:\n",
            "http://f1ca5378.ngrok.io\n"
          ],
          "name": "stdout"
        }
      ]
    },
    {
      "cell_type": "code",
      "metadata": {
        "id": "JP1GKQz4kXqB",
        "colab_type": "code",
        "outputId": "c822b34c-908d-450c-87ef-e6b33d0764ff",
        "colab": {
          "base_uri": "https://localhost:8080/",
          "height": 122
        }
      },
      "source": [
        "from google.colab import drive\n",
        "drive.mount('/content/drive')"
      ],
      "execution_count": 6,
      "outputs": [
        {
          "output_type": "stream",
          "text": [
            "Go to this URL in a browser: https://accounts.google.com/o/oauth2/auth?client_id=947318989803-6bn6qk8qdgf4n4g3pfee6491hc0brc4i.apps.googleusercontent.com&redirect_uri=urn%3Aietf%3Awg%3Aoauth%3A2.0%3Aoob&scope=email%20https%3A%2F%2Fwww.googleapis.com%2Fauth%2Fdocs.test%20https%3A%2F%2Fwww.googleapis.com%2Fauth%2Fdrive%20https%3A%2F%2Fwww.googleapis.com%2Fauth%2Fdrive.photos.readonly%20https%3A%2F%2Fwww.googleapis.com%2Fauth%2Fpeopleapi.readonly&response_type=code\n",
            "\n",
            "Enter your authorization code:\n",
            "··········\n",
            "Mounted at /content/drive\n"
          ],
          "name": "stdout"
        }
      ]
    },
    {
      "cell_type": "markdown",
      "metadata": {
        "id": "F7EsorsLlfd-",
        "colab_type": "text"
      },
      "source": [
        "## Path Setup"
      ]
    },
    {
      "cell_type": "code",
      "metadata": {
        "id": "wJbhJTjumTZJ",
        "colab_type": "code",
        "colab": {}
      },
      "source": [
        "path = Path('/content/drive/My Drive/Prototype_OP')\n",
        "path_bw = path/'BW'\n",
        "path_col = path/'Colored'\n",
        "\n",
        "proj_id = 'OnePieceModel'\n",
        "\n",
        "gen_name = proj_id + '_gen'\n",
        "pre_gen_name = gen_name + '_0'\n",
        "crit_name = proj_id + '_crit'\n",
        "\n",
        "name_gen = proj_id + '_image_gen'\n",
        "path_gen = path/name_gen\n",
        "\n",
        "TENSORBOARD_PATH = Path('data/tensorboard/' + proj_id)\n",
        "\n",
        "nf_factor = 1.5\n",
        "pct_start = 1."
      ],
      "execution_count": 0,
      "outputs": []
    },
    {
      "cell_type": "code",
      "metadata": {
        "id": "burjLOD3p2Id",
        "colab_type": "code",
        "colab": {}
      },
      "source": [
        "def get_data(bs:int, sz:int, keep_pct:float):\n",
        "    return get_colorize_data(sz=sz, bs=bs, crappy_path=path_bw, good_path=path_col, \n",
        "                             random_seed=None, keep_pct=keep_pct)\n",
        "\n",
        "def get_crit_data(classes, bs, sz):\n",
        "    src = ImageList.from_folder(path, include=classes, recurse=True).random_split_by_pct(0.1, seed=42)\n",
        "    ll = src.label_from_folder(classes=classes)\n",
        "    data = (ll.transform(get_transforms(max_zoom=2.), size=sz)\n",
        "           .databunch(bs=bs).normalize(imagenet_stats))\n",
        "    return data\n",
        "\n",
        "def create_training_images(fn,i):\n",
        "    dest = path_bw/fn.relative_to(path_col)\n",
        "    dest.parent.mkdir(parents=True, exist_ok=True)\n",
        "    img = PIL.Image.open(fn).convert('LA').convert('RGB')\n",
        "    img.save(dest)  \n",
        "    \n",
        "def save_preds(dl):\n",
        "    i=0\n",
        "    names = dl.dataset.items\n",
        "    \n",
        "    for b in dl:\n",
        "        preds = learn_gen.pred_batch(batch=b, reconstruct=True)\n",
        "        for o in preds:\n",
        "            o.save(path_gen/names[i].name)\n",
        "            i += 1\n",
        "    \n",
        "def save_gen_images():\n",
        "    if path_gen.exists(): shutil.rmtree(path_gen)\n",
        "    path_gen.mkdir(exist_ok=True)\n",
        "    data_gen = get_data(bs=bs, sz=sz, keep_pct=0.085)\n",
        "    save_preds(data_gen.fix_dl)\n",
        "    PIL.Image.open(path_gen.ls()[0])"
      ],
      "execution_count": 0,
      "outputs": []
    },
    {
      "cell_type": "markdown",
      "metadata": {
        "id": "LuJUzJEUrPfb",
        "colab_type": "text"
      },
      "source": [
        "## Pre-training the Generator"
      ]
    },
    {
      "cell_type": "code",
      "metadata": {
        "id": "MbsanTw1rWDj",
        "colab_type": "code",
        "colab": {}
      },
      "source": [
        "bs=11\n",
        "sz=192\n",
        "keep_pct=1."
      ],
      "execution_count": 0,
      "outputs": []
    },
    {
      "cell_type": "code",
      "metadata": {
        "id": "2d6ZWQmRr5da",
        "colab_type": "code",
        "colab": {}
      },
      "source": [
        "data_gen = get_data(bs=bs, sz=sz, keep_pct=keep_pct)"
      ],
      "execution_count": 0,
      "outputs": []
    },
    {
      "cell_type": "code",
      "metadata": {
        "id": "6gOZ7gmI5uQp",
        "colab_type": "code",
        "colab": {
          "base_uri": "https://localhost:8080/",
          "height": 306
        },
        "outputId": "cfbfcdb9-ae60-4157-fa48-0350d75a18ef"
      },
      "source": [
        "data_gen"
      ],
      "execution_count": 18,
      "outputs": [
        {
          "output_type": "execute_result",
          "data": {
            "text/plain": [
              "ImageDataBunch;\n",
              "\n",
              "Train: LabelList (4781 items)\n",
              "x: ImageImageList\n",
              "Image (3, 192, 192),Image (3, 192, 192),Image (3, 192, 192),Image (3, 192, 192),Image (3, 192, 192)\n",
              "y: ImageList\n",
              "Image (3, 192, 192),Image (3, 192, 192),Image (3, 192, 192),Image (3, 192, 192),Image (3, 192, 192)\n",
              "Path: /content/drive/My Drive/Prototype_OP/BW;\n",
              "\n",
              "Valid: LabelList (531 items)\n",
              "x: ImageImageList\n",
              "Image (3, 192, 192),Image (3, 192, 192),Image (3, 192, 192),Image (3, 192, 192),Image (3, 192, 192)\n",
              "y: ImageList\n",
              "Image (3, 192, 192),Image (3, 192, 192),Image (3, 192, 192),Image (3, 192, 192),Image (3, 192, 192)\n",
              "Path: /content/drive/My Drive/Prototype_OP/BW;\n",
              "\n",
              "Test: None"
            ]
          },
          "metadata": {
            "tags": []
          },
          "execution_count": 18
        }
      ]
    },
    {
      "cell_type": "code",
      "metadata": {
        "id": "Oovsir_0r9r7",
        "colab_type": "code",
        "outputId": "1d1961c9-f113-4507-98b0-806566a2faab",
        "colab": {
          "base_uri": "https://localhost:8080/",
          "height": 51
        }
      },
      "source": [
        "learn_gen = gen_learner_deep(data=data_gen, gen_loss=FeatureLoss(), nf_factor=nf_factor)"
      ],
      "execution_count": 11,
      "outputs": [
        {
          "output_type": "stream",
          "text": [
            "Downloading: \"https://download.pytorch.org/models/resnet34-333f7ec4.pth\" to /root/.cache/torch/checkpoints/resnet34-333f7ec4.pth\n",
            "100%|██████████| 83.3M/83.3M [00:03<00:00, 26.6MB/s]\n"
          ],
          "name": "stderr"
        }
      ]
    },
    {
      "cell_type": "code",
      "metadata": {
        "id": "SvhEkuojsQ2H",
        "colab_type": "code",
        "colab": {}
      },
      "source": [
        "# learn_gen.callback_fns.append(partial(ImageGenTensorboardWriter, base_dir=TENSORBOARD_PATH, name='GenPre'))"
      ],
      "execution_count": 0,
      "outputs": []
    },
    {
      "cell_type": "code",
      "metadata": {
        "id": "8ladmL-G1OEb",
        "colab_type": "code",
        "colab": {
          "base_uri": "https://localhost:8080/",
          "height": 163
        },
        "outputId": "b19f0897-e8d8-42b9-bf17-d7a430cd2099"
      },
      "source": [
        "docs(fit_one_cycle)"
      ],
      "execution_count": 16,
      "outputs": [
        {
          "output_type": "error",
          "ename": "NameError",
          "evalue": "ignored",
          "traceback": [
            "\u001b[0;31m---------------------------------------------------------------------------\u001b[0m",
            "\u001b[0;31mNameError\u001b[0m                                 Traceback (most recent call last)",
            "\u001b[0;32m<ipython-input-16-09c0622a0599>\u001b[0m in \u001b[0;36m<module>\u001b[0;34m()\u001b[0m\n\u001b[0;32m----> 1\u001b[0;31m \u001b[0mdocs\u001b[0m\u001b[0;34m(\u001b[0m\u001b[0mfit_one_cycle\u001b[0m\u001b[0;34m)\u001b[0m\u001b[0;34m\u001b[0m\u001b[0;34m\u001b[0m\u001b[0m\n\u001b[0m",
            "\u001b[0;31mNameError\u001b[0m: name 'docs' is not defined"
          ]
        }
      ]
    },
    {
      "cell_type": "code",
      "metadata": {
        "id": "laK1UGow0uxE",
        "colab_type": "code",
        "colab": {
          "base_uri": "https://localhost:8080/",
          "height": 80
        },
        "outputId": "c9d99913-a952-41e1-ba03-925b668a1aec"
      },
      "source": [
        "learn_gen.fit_one_cycle(1, pct_start=0.8, max_lr=slice(1e-3))"
      ],
      "execution_count": 22,
      "outputs": [
        {
          "output_type": "display_data",
          "data": {
            "text/html": [
              "<table border=\"1\" class=\"dataframe\">\n",
              "  <thead>\n",
              "    <tr style=\"text-align: left;\">\n",
              "      <th>epoch</th>\n",
              "      <th>train_loss</th>\n",
              "      <th>valid_loss</th>\n",
              "      <th>time</th>\n",
              "    </tr>\n",
              "  </thead>\n",
              "  <tbody>\n",
              "    <tr>\n",
              "      <td>0</td>\n",
              "      <td>4.631048</td>\n",
              "      <td>4.453769</td>\n",
              "      <td>36:01</td>\n",
              "    </tr>\n",
              "  </tbody>\n",
              "</table>"
            ],
            "text/plain": [
              "<IPython.core.display.HTML object>"
            ]
          },
          "metadata": {
            "tags": []
          }
        }
      ]
    },
    {
      "cell_type": "code",
      "metadata": {
        "id": "9ofd-Ncv1fOE",
        "colab_type": "code",
        "colab": {}
      },
      "source": [
        "learn_gen.unfreeze()"
      ],
      "execution_count": 0,
      "outputs": []
    },
    {
      "cell_type": "code",
      "metadata": {
        "id": "Vczy6W9V2BmX",
        "colab_type": "code",
        "colab": {}
      },
      "source": [
        "learn_gen.fit_one_cycle(1, pct_start=pct_start, max_lr=slice(5e-8,5e-5))"
      ],
      "execution_count": 0,
      "outputs": []
    },
    {
      "cell_type": "code",
      "metadata": {
        "id": "9w7SR3Qq2EPn",
        "colab_type": "code",
        "colab": {}
      },
      "source": [
        "learn_gen.save(pre_gen_name)"
      ],
      "execution_count": 0,
      "outputs": []
    }
  ]
}